{
 "cells": [
  {
   "cell_type": "code",
   "execution_count": 1,
   "metadata": {},
   "outputs": [],
   "source": [
    "import numpy as np\n",
    "import pandas as pd\n",
    "from pandas import Series, DataFrame\n",
    "import matplotlib.pyplot as plt\n",
    "import seaborn as sns\n",
    "from scipy import stats, special"
   ]
  },
  {
   "cell_type": "markdown",
   "metadata": {},
   "source": [
    "[khanacademy](https://www.khanacademy.org/math/statistics-probability/confidence-intervals-one-sample/estimating-population-mean/v/confidence-interval-for-a-mean-difference?modal=1)"
   ]
  },
  {
   "cell_type": "markdown",
   "metadata": {},
   "source": [
    "<img src=\"imgs/Screen Shot 2019-08-13 at 2.11.38 PM.png\">\n",
    "<img src=\"imgs/Screen Shot 2019-08-13 at 2.16.57 PM.png\">"
   ]
  },
  {
   "cell_type": "code",
   "execution_count": 37,
   "metadata": {},
   "outputs": [],
   "source": [
    "df = DataFrame({\n",
    "                'Jeff': [44, 35],\n",
    "               'David': [42, 37],\n",
    "               'Kim': [40, 32], \n",
    "               'Charlotte': [37, 31],\n",
    "               'Jake': [42, 36]})\n",
    "df = df.append(df.iloc[0] - df.iloc[1], ignore_index=True)\n",
    "df['Participant'] = ['Dominant', 'Non Dominance', 'Difference (dom - non)']\n",
    "df = df.set_index('Participant')\n",
    "\n",
    "df2 = DataFrame()\n",
    "df2['Mean'] = df.mean(axis=1)\n",
    "df2['Standard deviation'] = df.std(ddof=1, axis=1)\n",
    "df2['Sample standard error'] = df.sem(axis=1)\n",
    "df2['Sample size'] = df.shape[1]"
   ]
  },
  {
   "cell_type": "code",
   "execution_count": null,
   "metadata": {},
   "outputs": [],
   "source": []
  },
  {
   "cell_type": "code",
   "execution_count": 38,
   "metadata": {},
   "outputs": [
    {
     "data": {
      "text/html": [
       "<div>\n",
       "<style scoped>\n",
       "    .dataframe tbody tr th:only-of-type {\n",
       "        vertical-align: middle;\n",
       "    }\n",
       "\n",
       "    .dataframe tbody tr th {\n",
       "        vertical-align: top;\n",
       "    }\n",
       "\n",
       "    .dataframe thead th {\n",
       "        text-align: right;\n",
       "    }\n",
       "</style>\n",
       "<table border=\"1\" class=\"dataframe\">\n",
       "  <thead>\n",
       "    <tr style=\"text-align: right;\">\n",
       "      <th></th>\n",
       "      <th>Mean</th>\n",
       "      <th>Standard deviation</th>\n",
       "      <th>Sample standard error</th>\n",
       "      <th>Sample size</th>\n",
       "    </tr>\n",
       "    <tr>\n",
       "      <th>Participant</th>\n",
       "      <th></th>\n",
       "      <th></th>\n",
       "      <th></th>\n",
       "      <th></th>\n",
       "    </tr>\n",
       "  </thead>\n",
       "  <tbody>\n",
       "    <tr>\n",
       "      <th>Dominant</th>\n",
       "      <td>41.0</td>\n",
       "      <td>2.645751</td>\n",
       "      <td>1.183216</td>\n",
       "      <td>5</td>\n",
       "    </tr>\n",
       "    <tr>\n",
       "      <th>Non Dominance</th>\n",
       "      <td>34.2</td>\n",
       "      <td>2.588436</td>\n",
       "      <td>1.157584</td>\n",
       "      <td>5</td>\n",
       "    </tr>\n",
       "    <tr>\n",
       "      <th>Difference (dom - non)</th>\n",
       "      <td>6.8</td>\n",
       "      <td>1.643168</td>\n",
       "      <td>0.734847</td>\n",
       "      <td>5</td>\n",
       "    </tr>\n",
       "  </tbody>\n",
       "</table>\n",
       "</div>"
      ],
      "text/plain": [
       "                        Mean  Standard deviation  Sample standard error  \\\n",
       "Participant                                                               \n",
       "Dominant                41.0            2.645751               1.183216   \n",
       "Non Dominance           34.2            2.588436               1.157584   \n",
       "Difference (dom - non)   6.8            1.643168               0.734847   \n",
       "\n",
       "                        Sample size  \n",
       "Participant                          \n",
       "Dominant                          5  \n",
       "Non Dominance                     5  \n",
       "Difference (dom - non)            5  "
      ]
     },
     "execution_count": 38,
     "metadata": {},
     "output_type": "execute_result"
    }
   ],
   "source": [
    "df2"
   ]
  },
  {
   "cell_type": "code",
   "execution_count": 41,
   "metadata": {},
   "outputs": [
    {
     "data": {
      "text/plain": [
       "(4.759737858025229, 8.84026214197477)"
      ]
     },
     "execution_count": 41,
     "metadata": {},
     "output_type": "execute_result"
    }
   ],
   "source": [
    "stats.t.interval(0.95,\n",
    "                 df=df2.iloc[2]['Sample size'] - 1,\n",
    "                 loc=df2.iloc[2]['Mean'],\n",
    "                 scale=df2.iloc[2]['Sample standard error'])"
   ]
  },
  {
   "cell_type": "code",
   "execution_count": null,
   "metadata": {},
   "outputs": [],
   "source": []
  }
 ],
 "metadata": {
  "kernelspec": {
   "display_name": "Python 3",
   "language": "python",
   "name": "python3"
  },
  "language_info": {
   "codemirror_mode": {
    "name": "ipython",
    "version": 3
   },
   "file_extension": ".py",
   "mimetype": "text/x-python",
   "name": "python",
   "nbconvert_exporter": "python",
   "pygments_lexer": "ipython3",
   "version": "3.7.1"
  }
 },
 "nbformat": 4,
 "nbformat_minor": 4
}
