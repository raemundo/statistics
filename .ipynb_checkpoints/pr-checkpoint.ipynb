{
 "cells": [
  {
   "cell_type": "code",
   "execution_count": 9,
   "metadata": {},
   "outputs": [],
   "source": [
    "import html\n",
    "import shutil\n",
    "import requests\n",
    "from scrapy import Selector\n",
    "import json"
   ]
  },
  {
   "cell_type": "code",
   "execution_count": 10,
   "metadata": {},
   "outputs": [],
   "source": [
    "a = [\"Confidence intervals and margin of error\", \"Confidence interval simulation\", \"Interpreting confidence level example\", \"Interpreting confidence levels and confidence intervals\", \"Confidence interval example\", \"Margin of error 1\", \"Margin of error 2\", \"Conditions for valid confidence intervals\", \"Conditions for confidence intervals worked examples\", \"Reference: Conditions for inference on a proportion\", \"Critical value (z*) for a given confidence level\", \"Example constructing and interpreting a confidence interval for p\", \"Interpreting a z interval for a proportion\", \"Determining sample size based on confidence and margin of error\", \"Introduction to t statistics\", \"Simulation showing value of t statistic\", \"Conditions for valid t intervals\", \"Reference: Conditions for inference on a mean\", \"Example finding critical t value\", \"Example constructing a t interval for a mean\", \"Confidence interval for a mean with paired data\", \"Making a t interval for paired data\", \"Interpreting a confidence interval for a mean\", \"Sample size for a given margin of error for a mean\", \"T-statistic confidence interval\", \"Small sample size confidence intervals\"]"
   ]
  },
  {
   "cell_type": "code",
   "execution_count": 11,
   "metadata": {},
   "outputs": [],
   "source": [
    "b = [\n",
    " \n",
    "\"https://www.khanacademy.org/math/statistics-probability/counting-permutations-and-combinations/counting-principle-factorial/v/tree-diagram-to-count-outcomes?modal=1\",\n",
    "\"https://www.khanacademy.org/math/statistics-probability/counting-permutations-and-combinations/counting-principle-factorial/v/counting-pot-and-flower-scenarios?modal=1\",\n",
    "\"https://www.khanacademy.org/math/statistics-probability/counting-permutations-and-combinations/permutation-lib/v/permutation-formula?modal=1\",\n",
    "\"https://www.khanacademy.org/math/statistics-probability/counting-permutations-and-combinations/permutation-lib/v/zero-factorial-or-0?modal=1\",\n",
    "\"https://www.khanacademy.org/math/statistics-probability/counting-permutations-and-combinations/permutation-lib/v/factorial-and-counting-seat-arrangements?modal=1\",\n",
    "\"https://www.khanacademy.org/math/statistics-probability/counting-permutations-and-combinations/permutation-lib/v/possible-three-letter-words?modal=1\",\n",
    "\"https://www.khanacademy.org/math/statistics-probability/counting-permutations-and-combinations/permutation-lib/v/permutations-and-combinations-1?modal=1\",\n",
    "\"https://www.khanacademy.org/math/statistics-probability/counting-permutations-and-combinations/permutation-lib/v/permutations-and-combinations-2?modal=1\",\n",
    "\"https://www.khanacademy.org/math/statistics-probability/counting-permutations-and-combinations/combinations-lib/v/introduction-to-combinations?modal=1\",\n",
    "\"https://www.khanacademy.org/math/statistics-probability/counting-permutations-and-combinations/combinations-lib/v/combination-formula?modal=1\",\n",
    "\"https://www.khanacademy.org/math/statistics-probability/counting-permutations-and-combinations/combinations-lib/v/handshaking-combinations?modal=1\",\n",
    "\"https://www.khanacademy.org/math/statistics-probability/counting-permutations-and-combinations/combinations-lib/v/permutations-and-combinations-3?modal=1\",\n",
    "\"https://www.khanacademy.org/math/statistics-probability/counting-permutations-and-combinations/combinatorics-probability/v/probability-using-combinations?modal=1\",\n",
    "\"https://www.khanacademy.org/math/statistics-probability/counting-permutations-and-combinations/combinatorics-probability/v/probability-and-combinations-part-2?modal=1\",\n",
    "\"https://www.khanacademy.org/math/statistics-probability/counting-permutations-and-combinations/combinatorics-probability/v/probability-of-dependent-events?modal=1\",\n",
    "\"https://www.khanacademy.org/math/statistics-probability/counting-permutations-and-combinations/combinatorics-probability/v/probability-of-dependent-events-2?modal=1\",\n",
    "\"https://www.khanacademy.org/math/statistics-probability/counting-permutations-and-combinations/combinatorics-probability/v/getting-exactly-two-heads-combinatorics?modal=1\",\n",
    "\"https://www.khanacademy.org/math/statistics-probability/counting-permutations-and-combinations/combinatorics-probability/v/exactly-three-heads-in-five-flips?modal=1\",\n",
    "\"https://www.khanacademy.org/math/statistics-probability/counting-permutations-and-combinations/combinatorics-probability/v/generalizing-with-binomial-coefficients-bit-advanced?modal=1\",\n",
    "\"https://www.khanacademy.org/math/statistics-probability/counting-permutations-and-combinations/combinatorics-probability/v/permutations-and-combinations-4?modal=1\",\n",
    "\"https://www.khanacademy.org/math/statistics-probability/counting-permutations-and-combinations/combinatorics-probability/v/conditional-probability-and-combinations?modal=1\",\n",
    "\"https://www.khanacademy.org/math/statistics-probability/counting-permutations-and-combinations/combinatorics-probability/v/mega-millions-jackpot-probability?modal=1\",\n",
    "\"https://www.khanacademy.org/math/statistics-probability/counting-permutations-and-combinations/combinatorics-probability/v/birthday-probability-problem?modal=1\",\n",
    "\n",
    "\n",
    "]"
   ]
  },
  {
   "cell_type": "code",
   "execution_count": null,
   "metadata": {},
   "outputs": [],
   "source": []
  },
  {
   "cell_type": "code",
   "execution_count": null,
   "metadata": {},
   "outputs": [],
   "source": []
  },
  {
   "cell_type": "code",
   "execution_count": 12,
   "metadata": {},
   "outputs": [],
   "source": [
    "combinatorics = [{'text': i, 'href': b[idx]} for idx, i in enumerate(a)]"
   ]
  },
  {
   "cell_type": "code",
   "execution_count": null,
   "metadata": {},
   "outputs": [],
   "source": []
  },
  {
   "cell_type": "code",
   "execution_count": null,
   "metadata": {},
   "outputs": [],
   "source": []
  },
  {
   "cell_type": "code",
   "execution_count": null,
   "metadata": {},
   "outputs": [],
   "source": []
  },
  {
   "cell_type": "code",
   "execution_count": 13,
   "metadata": {},
   "outputs": [],
   "source": [
    "x = {\n",
    " \"cells\": [\n",
    "  {\n",
    "   \"cell_type\": \"code\",\n",
    "   \"execution_count\": 1,\n",
    "   \"metadata\": {},\n",
    "   \"outputs\": [],\n",
    "   \"source\": [\n",
    "    \"import numpy as np\\n\",\n",
    "    \"import pandas as pd\\n\",\n",
    "    \"from pandas import Series, DataFrame\\n\",\n",
    "    \"import matplotlib.pyplot as plt\\n\",\n",
    "    \"import seaborn as sns\"\n",
    "   ]\n",
    "  },\n",
    "  {\n",
    "   \"cell_type\": \"markdown\",\n",
    "   \"metadata\": {},\n",
    "   \"source\": [\n",
    "    \"[khanacademy](%s)\"\n",
    "   ]\n",
    "  },\n",
    " ],\n",
    " \"metadata\": {\n",
    "  \"kernelspec\": {\n",
    "   \"display_name\": \"Python 3\",\n",
    "   \"language\": \"python\",\n",
    "   \"name\": \"python3\"\n",
    "  },\n",
    "  \"language_info\": {\n",
    "   \"codemirror_mode\": {\n",
    "    \"name\": \"ipython\",\n",
    "    \"version\": 3\n",
    "   },\n",
    "   \"file_extension\": \".py\",\n",
    "   \"mimetype\": \"text/x-python\",\n",
    "   \"name\": \"python\",\n",
    "   \"nbconvert_exporter\": \"python\",\n",
    "   \"pygments_lexer\": \"ipython3\",\n",
    "   \"version\": \"3.7.1\"\n",
    "  }\n",
    " },\n",
    " \"nbformat\": 4,\n",
    " \"nbformat_minor\": 4\n",
    "}"
   ]
  },
  {
   "cell_type": "code",
   "execution_count": null,
   "metadata": {},
   "outputs": [],
   "source": []
  },
  {
   "cell_type": "code",
   "execution_count": 14,
   "metadata": {},
   "outputs": [],
   "source": [
    "dirs_files = {\n",
    "    '11 Confidence intervals': combinatorics,\n",
    "}"
   ]
  },
  {
   "cell_type": "code",
   "execution_count": 16,
   "metadata": {},
   "outputs": [
    {
     "name": "stdout",
     "output_type": "stream",
     "text": [
      "./Counting, permutations, and combinations/01 Count outcomes using tree diagram.ipynb\n",
      "./Counting, permutations, and combinations/02 Counting outcomes flower pots.ipynb\n",
      "./Counting, permutations, and combinations/03 Permutation formula.ipynb\n",
      "./Counting, permutations, and combinations/04 Zero factorial or  0!.ipynb\n",
      "./Counting, permutations, and combinations/05 Factorial and counting seat arrangements.ipynb\n",
      "./Counting, permutations, and combinations/06 Possible three letter words.ipynb\n",
      "./Counting, permutations, and combinations/07 Ways to arrange colors.ipynb\n",
      "./Counting, permutations, and combinations/08 Ways to pick officers.ipynb\n",
      "./Counting, permutations, and combinations/09 Intro to combinations.ipynb\n",
      "./Counting, permutations, and combinations/10 Combination formula.ipynb\n",
      "./Counting, permutations, and combinations/11 Handshaking combinations.ipynb\n",
      "./Counting, permutations, and combinations/12 Combination example 9 card hands.ipynb\n",
      "./Counting, permutations, and combinations/13 Probability using combinations.ipynb\n",
      "./Counting, permutations, and combinations/14 Probability & combinations (2 of 2).ipynb\n",
      "./Counting, permutations, and combinations/15 Example  Different ways to pick officers.ipynb\n",
      "./Counting, permutations, and combinations/16 Example Combinatorics and probability.ipynb\n",
      "./Counting, permutations, and combinations/17 Getting exactly two heads (combinatorics).ipynb\n",
      "./Counting, permutations, and combinations/18 Exactly three heads in five flips.ipynb\n",
      "./Counting, permutations, and combinations/19 Generalizing with binomial coefficients (bit advanced).ipynb\n",
      "./Counting, permutations, and combinations/20 Example  Lottery probability.ipynb\n",
      "./Counting, permutations, and combinations/21 Conditional probability and combinations.ipynb\n",
      "./Counting, permutations, and combinations/22 Mega millions jackpot probability.ipynb\n",
      "./Counting, permutations, and combinations/23 Birthday probability problem.ipynb\n"
     ]
    }
   ],
   "source": [
    "remove_punctuation_map = dict((ord(char), None) for char in '\\/*?:\"<>|')\n",
    "for i in dirs_files:\n",
    "    for idx, j in enumerate(dirs_files[i]):\n",
    "        src = 'x.ipynb'\n",
    "        dst = f'./{i}/{str(idx+1).zfill(2)} {j[\"text\"].translate(remove_punctuation_map)}.ipynb'\n",
    "        x['cells'][1]['source'] = f\"[khanacademy]({j['href']})\"\n",
    "        with open(dst, 'w') as f:\n",
    "            json.dump(x, f)\n",
    "        print(dst)"
   ]
  },
  {
   "cell_type": "code",
   "execution_count": null,
   "metadata": {},
   "outputs": [],
   "source": []
  },
  {
   "cell_type": "code",
   "execution_count": null,
   "metadata": {},
   "outputs": [],
   "source": []
  },
  {
   "cell_type": "code",
   "execution_count": null,
   "metadata": {},
   "outputs": [],
   "source": []
  },
  {
   "cell_type": "code",
   "execution_count": null,
   "metadata": {},
   "outputs": [],
   "source": []
  },
  {
   "cell_type": "code",
   "execution_count": null,
   "metadata": {},
   "outputs": [],
   "source": []
  },
  {
   "cell_type": "code",
   "execution_count": null,
   "metadata": {},
   "outputs": [],
   "source": []
  },
  {
   "cell_type": "code",
   "execution_count": null,
   "metadata": {},
   "outputs": [],
   "source": []
  },
  {
   "cell_type": "code",
   "execution_count": null,
   "metadata": {},
   "outputs": [],
   "source": []
  },
  {
   "cell_type": "code",
   "execution_count": null,
   "metadata": {},
   "outputs": [],
   "source": []
  }
 ],
 "metadata": {
  "kernelspec": {
   "display_name": "Python 3",
   "language": "python",
   "name": "python3"
  },
  "language_info": {
   "codemirror_mode": {
    "name": "ipython",
    "version": 3
   },
   "file_extension": ".py",
   "mimetype": "text/x-python",
   "name": "python",
   "nbconvert_exporter": "python",
   "pygments_lexer": "ipython3",
   "version": "3.7.1"
  }
 },
 "nbformat": 4,
 "nbformat_minor": 4
}
