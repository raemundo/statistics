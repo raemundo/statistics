{
 "cells": [
  {
   "cell_type": "code",
   "execution_count": 7,
   "metadata": {},
   "outputs": [
    {
     "name": "stdout",
     "output_type": "stream",
     "text": [
      "[-0.2213019341677507, 0.02130193416775064]\n"
     ]
    }
   ],
   "source": [
    "import scipy.stats as stats\n",
    "import numpy as np\n",
    "\n",
    "number_n = 120\n",
    "yes_n = 54\n",
    "p_hat_n = yes_n / number_n\n",
    "\n",
    "number_s = 140\n",
    "yes_s = 77\n",
    "p_hat_s = yes_s / number_s\n",
    "\n",
    "center = p_hat_n - p_hat_s\n",
    "\n",
    "a = stats.norm()\n",
    "z_star = a.ppf(0.975)\n",
    "\n",
    "a = p_hat_n*(1-p_hat_n)/number_n\n",
    "b = p_hat_s*(1-p_hat_s)/number_s\n",
    "s = np.sqrt(a + b)\n",
    "\n",
    "left = center - z_star * s \n",
    "right = center + z_star * s\n",
    "\n",
    "print([left, right])"
   ]
  },
  {
   "cell_type": "code",
   "execution_count": 10,
   "metadata": {},
   "outputs": [
    {
     "name": "stdout",
     "output_type": "stream",
     "text": [
      "0.002588980054111791\n"
     ]
    }
   ],
   "source": [
    "import scipy.stats as stats\n",
    "import numpy as np\n",
    "\n",
    "number_n = 120\n",
    "yes_n = 44\n",
    "p_hat_n = yes_n / number_n\n",
    "\n",
    "number_s = 140\n",
    "yes_s = 77\n",
    "p_hat_s = yes_s / number_s\n",
    "\n",
    "center = p_hat_n - p_hat_s\n",
    "\n",
    "a = p_hat_n*(1-p_hat_n)/number_n\n",
    "b = p_hat_s*(1-p_hat_s)/number_s\n",
    "s = np.sqrt(a + b)\n",
    "\n",
    "test_statistic = center / s\n",
    "\n",
    "a = stats.norm()\n",
    "p_value = 2 * a.cdf(test_statistic)\n",
    "print(p_value)"
   ]
  },
  {
   "cell_type": "code",
   "execution_count": null,
   "metadata": {},
   "outputs": [],
   "source": []
  }
 ],
 "metadata": {
  "kernelspec": {
   "display_name": "Python 3",
   "language": "python",
   "name": "python3"
  },
  "language_info": {
   "codemirror_mode": {
    "name": "ipython",
    "version": 3
   },
   "file_extension": ".py",
   "mimetype": "text/x-python",
   "name": "python",
   "nbconvert_exporter": "python",
   "pygments_lexer": "ipython3",
   "version": "3.6.9"
  }
 },
 "nbformat": 4,
 "nbformat_minor": 2
}
