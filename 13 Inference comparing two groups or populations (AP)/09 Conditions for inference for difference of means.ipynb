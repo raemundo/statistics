{
 "cells": [
  {
   "cell_type": "code",
   "execution_count": 1,
   "metadata": {},
   "outputs": [],
   "source": [
    "import numpy as np\n",
    "import pandas as pd\n",
    "from pandas import Series, DataFrame\n",
    "import matplotlib.pyplot as plt\n",
    "import seaborn as sns\n",
    "from scipy import stats, special"
   ]
  },
  {
   "cell_type": "markdown",
   "metadata": {},
   "source": [
    "[khanacademy](https://www.khanacademy.org/math/ap-statistics/two-sample-inference/two-sample-t-interval-means/v/conditions-for-inference-for-difference-of-means?modal=1)"
   ]
  },
  {
   "cell_type": "markdown",
   "metadata": {},
   "source": [
    "<div align=\"center\"><img src=\"imgs/Screen Shot 2019-08-14 at 12.25.49 AM.png\" width=\"100%\" height=\"30%\"></div>"
   ]
  },
  {
   "cell_type": "markdown",
   "metadata": {},
   "source": [
    "$$\\begin{array}{ll}\n",
    "(1)&\\mbox{SRS}\\\\\n",
    "(2)&\\mbox{Independence}:\\ \\#\\ \\mbox{Sample} \\le 10\\%\\ *\\ \\#\\  \\mbox{Population}\\\\\n",
    "(3)&\\mbox{Normality}:\\ n\\ge 30\\mbox{, symmetric with small $n$, or normal} \\\\\n",
    "\\\\\n",
    "(1)&\\mbox{SRS}:\\ \\mbox{Both samples are SRS}\\\\\n",
    "(2)&\\mbox{Independence}:\\ \\#\\ \\mbox{Sample}_i \\le 10\\%\\ *\\ \\#\\  \\mbox{Population}_i\\ \\mbox{for both $i=1,2$}\\\\\n",
    "(3)&\\mbox{Normality}:\\ n_i\\ge 30\\mbox{, symmetric with small $n_i$, or normal}\\ \\mbox{for both $i=1,2$}\\\\\n",
    "\\end{array}$$"
   ]
  },
  {
   "cell_type": "markdown",
   "metadata": {},
   "source": [
    "$$\\begin{array}{ll}\n",
    "(1)&\\mbox{SRS}\\\\\n",
    "(2)&\\mbox{Independence}:\\ \\#\\ \\mbox{Sample} \\le 10\\%\\ *\\ \\#\\  \\mbox{Population}\\\\\n",
    "(3)&\\mbox{Normality}:\\ n\\ge 30\\mbox{, symmetric with small $n$, or normal} \\\\\n",
    "\\\\\n",
    "(1)&\\mbox{SRS}\\\\\n",
    "(2)&\\mbox{Independence}:\\ \\#\\ \\mbox{Sample} \\le 10\\%\\ *\\ \\#\\  \\mbox{Population}\\\\\n",
    "(3)&\\mbox{Normality}:\\ n\\ge 30\\mbox{, symmetric with small $n$, or normal} \\\\\n",
    "\\end{array}$$"
   ]
  },
  {
   "cell_type": "code",
   "execution_count": null,
   "metadata": {},
   "outputs": [],
   "source": []
  }
 ],
 "metadata": {
  "kernelspec": {
   "display_name": "Python 3",
   "language": "python",
   "name": "python3"
  },
  "language_info": {
   "codemirror_mode": {
    "name": "ipython",
    "version": 3
   },
   "file_extension": ".py",
   "mimetype": "text/x-python",
   "name": "python",
   "nbconvert_exporter": "python",
   "pygments_lexer": "ipython3",
   "version": "3.7.1"
  }
 },
 "nbformat": 4,
 "nbformat_minor": 2
}
