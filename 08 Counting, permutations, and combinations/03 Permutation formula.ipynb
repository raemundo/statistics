{
 "cells": [
  {
   "cell_type": "code",
   "execution_count": 1,
   "metadata": {},
   "outputs": [],
   "source": [
    "import itertools\n",
    "import numpy as np\n",
    "import pandas as pd\n",
    "from pandas import Series, DataFrame\n",
    "import matplotlib.pyplot as plt\n",
    "import seaborn as sns\n",
    "from scipy import stats, special"
   ]
  },
  {
   "cell_type": "markdown",
   "metadata": {},
   "source": [
    "[khanacademy](https://www.khanacademy.org/math/statistics-probability/counting-permutations-and-combinations/permutation-lib/v/permutation-formula?modal=1)"
   ]
  },
  {
   "cell_type": "markdown",
   "metadata": {},
   "source": [
    "<img src=\"imgs/Anotación 2020-03-10 073938.png\">"
   ]
  },
  {
   "cell_type": "code",
   "execution_count": 2,
   "metadata": {},
   "outputs": [],
   "source": [
    "def factorial(n):\n",
    "    if n == 1:\n",
    "        return 1\n",
    "    else: \n",
    "        return n * factorial(n - 1)"
   ]
  },
  {
   "cell_type": "code",
   "execution_count": 3,
   "metadata": {},
   "outputs": [],
   "source": [
    "def permutation_without_repetation(n, r):\n",
    "    if n != r:\n",
    "        return factorial(n) / factorial(n-r)\n",
    "    else: # zero factorial\n",
    "        return factorial(n) / factorial(1)"
   ]
  },
  {
   "cell_type": "code",
   "execution_count": 4,
   "metadata": {},
   "outputs": [],
   "source": [
    "persons = ['A', 'B', 'C', 'D', 'E']\n",
    "seats1 = [1, 2, 3, 4, 5]\n",
    "seats2 = [1, 2, 3]"
   ]
  },
  {
   "cell_type": "code",
   "execution_count": null,
   "metadata": {},
   "outputs": [],
   "source": []
  },
  {
   "cell_type": "code",
   "execution_count": 5,
   "metadata": {},
   "outputs": [],
   "source": [
    "persons_len, seats1_len, seats2_len = len(persons), len(seats1), len(seats2)"
   ]
  },
  {
   "cell_type": "code",
   "execution_count": 6,
   "metadata": {
    "scrolled": false
   },
   "outputs": [
    {
     "data": {
      "text/plain": [
       "120"
      ]
     },
     "execution_count": 6,
     "metadata": {},
     "output_type": "execute_result"
    }
   ],
   "source": [
    "factorial(seats1_len)"
   ]
  },
  {
   "cell_type": "code",
   "execution_count": 16,
   "metadata": {},
   "outputs": [
    {
     "data": {
      "text/plain": [
       "120.0"
      ]
     },
     "execution_count": 16,
     "metadata": {},
     "output_type": "execute_result"
    }
   ],
   "source": [
    "special.perm(persons_len, seats1_len)"
   ]
  },
  {
   "cell_type": "code",
   "execution_count": 17,
   "metadata": {},
   "outputs": [
    {
     "data": {
      "text/plain": [
       "60.0"
      ]
     },
     "execution_count": 17,
     "metadata": {},
     "output_type": "execute_result"
    }
   ],
   "source": [
    "special.perm(persons_len, seats2_len)"
   ]
  },
  {
   "cell_type": "code",
   "execution_count": 9,
   "metadata": {},
   "outputs": [],
   "source": [
    "permutation_1 = list(itertools.permutations(persons, seats1_len))"
   ]
  },
  {
   "cell_type": "code",
   "execution_count": 10,
   "metadata": {},
   "outputs": [],
   "source": [
    "permutation_2 = list(itertools.permutations(persons, seats2_len))"
   ]
  },
  {
   "cell_type": "code",
   "execution_count": 11,
   "metadata": {},
   "outputs": [
    {
     "data": {
      "text/plain": [
       "[('A', 'B', 'C', 'D', 'E'),\n",
       " ('A', 'B', 'C', 'E', 'D'),\n",
       " ('A', 'B', 'D', 'C', 'E'),\n",
       " ('A', 'B', 'D', 'E', 'C'),\n",
       " ('A', 'B', 'E', 'C', 'D'),\n",
       " ('A', 'B', 'E', 'D', 'C'),\n",
       " ('A', 'C', 'B', 'D', 'E'),\n",
       " ('A', 'C', 'B', 'E', 'D'),\n",
       " ('A', 'C', 'D', 'B', 'E'),\n",
       " ('A', 'C', 'D', 'E', 'B'),\n",
       " ('A', 'C', 'E', 'B', 'D'),\n",
       " ('A', 'C', 'E', 'D', 'B'),\n",
       " ('A', 'D', 'B', 'C', 'E'),\n",
       " ('A', 'D', 'B', 'E', 'C'),\n",
       " ('A', 'D', 'C', 'B', 'E'),\n",
       " ('A', 'D', 'C', 'E', 'B'),\n",
       " ('A', 'D', 'E', 'B', 'C'),\n",
       " ('A', 'D', 'E', 'C', 'B'),\n",
       " ('A', 'E', 'B', 'C', 'D'),\n",
       " ('A', 'E', 'B', 'D', 'C'),\n",
       " ('A', 'E', 'C', 'B', 'D'),\n",
       " ('A', 'E', 'C', 'D', 'B'),\n",
       " ('A', 'E', 'D', 'B', 'C'),\n",
       " ('A', 'E', 'D', 'C', 'B'),\n",
       " ('B', 'A', 'C', 'D', 'E'),\n",
       " ('B', 'A', 'C', 'E', 'D'),\n",
       " ('B', 'A', 'D', 'C', 'E'),\n",
       " ('B', 'A', 'D', 'E', 'C'),\n",
       " ('B', 'A', 'E', 'C', 'D'),\n",
       " ('B', 'A', 'E', 'D', 'C'),\n",
       " ('B', 'C', 'A', 'D', 'E'),\n",
       " ('B', 'C', 'A', 'E', 'D'),\n",
       " ('B', 'C', 'D', 'A', 'E'),\n",
       " ('B', 'C', 'D', 'E', 'A'),\n",
       " ('B', 'C', 'E', 'A', 'D'),\n",
       " ('B', 'C', 'E', 'D', 'A'),\n",
       " ('B', 'D', 'A', 'C', 'E'),\n",
       " ('B', 'D', 'A', 'E', 'C'),\n",
       " ('B', 'D', 'C', 'A', 'E'),\n",
       " ('B', 'D', 'C', 'E', 'A'),\n",
       " ('B', 'D', 'E', 'A', 'C'),\n",
       " ('B', 'D', 'E', 'C', 'A'),\n",
       " ('B', 'E', 'A', 'C', 'D'),\n",
       " ('B', 'E', 'A', 'D', 'C'),\n",
       " ('B', 'E', 'C', 'A', 'D'),\n",
       " ('B', 'E', 'C', 'D', 'A'),\n",
       " ('B', 'E', 'D', 'A', 'C'),\n",
       " ('B', 'E', 'D', 'C', 'A'),\n",
       " ('C', 'A', 'B', 'D', 'E'),\n",
       " ('C', 'A', 'B', 'E', 'D'),\n",
       " ('C', 'A', 'D', 'B', 'E'),\n",
       " ('C', 'A', 'D', 'E', 'B'),\n",
       " ('C', 'A', 'E', 'B', 'D'),\n",
       " ('C', 'A', 'E', 'D', 'B'),\n",
       " ('C', 'B', 'A', 'D', 'E'),\n",
       " ('C', 'B', 'A', 'E', 'D'),\n",
       " ('C', 'B', 'D', 'A', 'E'),\n",
       " ('C', 'B', 'D', 'E', 'A'),\n",
       " ('C', 'B', 'E', 'A', 'D'),\n",
       " ('C', 'B', 'E', 'D', 'A'),\n",
       " ('C', 'D', 'A', 'B', 'E'),\n",
       " ('C', 'D', 'A', 'E', 'B'),\n",
       " ('C', 'D', 'B', 'A', 'E'),\n",
       " ('C', 'D', 'B', 'E', 'A'),\n",
       " ('C', 'D', 'E', 'A', 'B'),\n",
       " ('C', 'D', 'E', 'B', 'A'),\n",
       " ('C', 'E', 'A', 'B', 'D'),\n",
       " ('C', 'E', 'A', 'D', 'B'),\n",
       " ('C', 'E', 'B', 'A', 'D'),\n",
       " ('C', 'E', 'B', 'D', 'A'),\n",
       " ('C', 'E', 'D', 'A', 'B'),\n",
       " ('C', 'E', 'D', 'B', 'A'),\n",
       " ('D', 'A', 'B', 'C', 'E'),\n",
       " ('D', 'A', 'B', 'E', 'C'),\n",
       " ('D', 'A', 'C', 'B', 'E'),\n",
       " ('D', 'A', 'C', 'E', 'B'),\n",
       " ('D', 'A', 'E', 'B', 'C'),\n",
       " ('D', 'A', 'E', 'C', 'B'),\n",
       " ('D', 'B', 'A', 'C', 'E'),\n",
       " ('D', 'B', 'A', 'E', 'C'),\n",
       " ('D', 'B', 'C', 'A', 'E'),\n",
       " ('D', 'B', 'C', 'E', 'A'),\n",
       " ('D', 'B', 'E', 'A', 'C'),\n",
       " ('D', 'B', 'E', 'C', 'A'),\n",
       " ('D', 'C', 'A', 'B', 'E'),\n",
       " ('D', 'C', 'A', 'E', 'B'),\n",
       " ('D', 'C', 'B', 'A', 'E'),\n",
       " ('D', 'C', 'B', 'E', 'A'),\n",
       " ('D', 'C', 'E', 'A', 'B'),\n",
       " ('D', 'C', 'E', 'B', 'A'),\n",
       " ('D', 'E', 'A', 'B', 'C'),\n",
       " ('D', 'E', 'A', 'C', 'B'),\n",
       " ('D', 'E', 'B', 'A', 'C'),\n",
       " ('D', 'E', 'B', 'C', 'A'),\n",
       " ('D', 'E', 'C', 'A', 'B'),\n",
       " ('D', 'E', 'C', 'B', 'A'),\n",
       " ('E', 'A', 'B', 'C', 'D'),\n",
       " ('E', 'A', 'B', 'D', 'C'),\n",
       " ('E', 'A', 'C', 'B', 'D'),\n",
       " ('E', 'A', 'C', 'D', 'B'),\n",
       " ('E', 'A', 'D', 'B', 'C'),\n",
       " ('E', 'A', 'D', 'C', 'B'),\n",
       " ('E', 'B', 'A', 'C', 'D'),\n",
       " ('E', 'B', 'A', 'D', 'C'),\n",
       " ('E', 'B', 'C', 'A', 'D'),\n",
       " ('E', 'B', 'C', 'D', 'A'),\n",
       " ('E', 'B', 'D', 'A', 'C'),\n",
       " ('E', 'B', 'D', 'C', 'A'),\n",
       " ('E', 'C', 'A', 'B', 'D'),\n",
       " ('E', 'C', 'A', 'D', 'B'),\n",
       " ('E', 'C', 'B', 'A', 'D'),\n",
       " ('E', 'C', 'B', 'D', 'A'),\n",
       " ('E', 'C', 'D', 'A', 'B'),\n",
       " ('E', 'C', 'D', 'B', 'A'),\n",
       " ('E', 'D', 'A', 'B', 'C'),\n",
       " ('E', 'D', 'A', 'C', 'B'),\n",
       " ('E', 'D', 'B', 'A', 'C'),\n",
       " ('E', 'D', 'B', 'C', 'A'),\n",
       " ('E', 'D', 'C', 'A', 'B'),\n",
       " ('E', 'D', 'C', 'B', 'A')]"
      ]
     },
     "execution_count": 11,
     "metadata": {},
     "output_type": "execute_result"
    }
   ],
   "source": [
    "permutation_1"
   ]
  },
  {
   "cell_type": "code",
   "execution_count": 12,
   "metadata": {},
   "outputs": [
    {
     "data": {
      "text/plain": [
       "[('A', 'B', 'C'),\n",
       " ('A', 'B', 'D'),\n",
       " ('A', 'B', 'E'),\n",
       " ('A', 'C', 'B'),\n",
       " ('A', 'C', 'D'),\n",
       " ('A', 'C', 'E'),\n",
       " ('A', 'D', 'B'),\n",
       " ('A', 'D', 'C'),\n",
       " ('A', 'D', 'E'),\n",
       " ('A', 'E', 'B'),\n",
       " ('A', 'E', 'C'),\n",
       " ('A', 'E', 'D'),\n",
       " ('B', 'A', 'C'),\n",
       " ('B', 'A', 'D'),\n",
       " ('B', 'A', 'E'),\n",
       " ('B', 'C', 'A'),\n",
       " ('B', 'C', 'D'),\n",
       " ('B', 'C', 'E'),\n",
       " ('B', 'D', 'A'),\n",
       " ('B', 'D', 'C'),\n",
       " ('B', 'D', 'E'),\n",
       " ('B', 'E', 'A'),\n",
       " ('B', 'E', 'C'),\n",
       " ('B', 'E', 'D'),\n",
       " ('C', 'A', 'B'),\n",
       " ('C', 'A', 'D'),\n",
       " ('C', 'A', 'E'),\n",
       " ('C', 'B', 'A'),\n",
       " ('C', 'B', 'D'),\n",
       " ('C', 'B', 'E'),\n",
       " ('C', 'D', 'A'),\n",
       " ('C', 'D', 'B'),\n",
       " ('C', 'D', 'E'),\n",
       " ('C', 'E', 'A'),\n",
       " ('C', 'E', 'B'),\n",
       " ('C', 'E', 'D'),\n",
       " ('D', 'A', 'B'),\n",
       " ('D', 'A', 'C'),\n",
       " ('D', 'A', 'E'),\n",
       " ('D', 'B', 'A'),\n",
       " ('D', 'B', 'C'),\n",
       " ('D', 'B', 'E'),\n",
       " ('D', 'C', 'A'),\n",
       " ('D', 'C', 'B'),\n",
       " ('D', 'C', 'E'),\n",
       " ('D', 'E', 'A'),\n",
       " ('D', 'E', 'B'),\n",
       " ('D', 'E', 'C'),\n",
       " ('E', 'A', 'B'),\n",
       " ('E', 'A', 'C'),\n",
       " ('E', 'A', 'D'),\n",
       " ('E', 'B', 'A'),\n",
       " ('E', 'B', 'C'),\n",
       " ('E', 'B', 'D'),\n",
       " ('E', 'C', 'A'),\n",
       " ('E', 'C', 'B'),\n",
       " ('E', 'C', 'D'),\n",
       " ('E', 'D', 'A'),\n",
       " ('E', 'D', 'B'),\n",
       " ('E', 'D', 'C')]"
      ]
     },
     "execution_count": 12,
     "metadata": {},
     "output_type": "execute_result"
    }
   ],
   "source": [
    "permutation_2"
   ]
  },
  {
   "cell_type": "code",
   "execution_count": 13,
   "metadata": {},
   "outputs": [
    {
     "data": {
      "text/plain": [
       "120"
      ]
     },
     "execution_count": 13,
     "metadata": {},
     "output_type": "execute_result"
    }
   ],
   "source": [
    "len(permutation_1)"
   ]
  },
  {
   "cell_type": "code",
   "execution_count": 14,
   "metadata": {},
   "outputs": [
    {
     "data": {
      "text/plain": [
       "60"
      ]
     },
     "execution_count": 14,
     "metadata": {},
     "output_type": "execute_result"
    }
   ],
   "source": [
    "len(permutation_2)"
   ]
  },
  {
   "cell_type": "code",
   "execution_count": null,
   "metadata": {},
   "outputs": [],
   "source": []
  },
  {
   "cell_type": "code",
   "execution_count": null,
   "metadata": {},
   "outputs": [],
   "source": []
  }
 ],
 "metadata": {
  "kernelspec": {
   "display_name": "Python 3",
   "language": "python",
   "name": "python3"
  },
  "language_info": {
   "codemirror_mode": {
    "name": "ipython",
    "version": 3
   },
   "file_extension": ".py",
   "mimetype": "text/x-python",
   "name": "python",
   "nbconvert_exporter": "python",
   "pygments_lexer": "ipython3",
   "version": "3.7.1"
  }
 },
 "nbformat": 4,
 "nbformat_minor": 4
}
