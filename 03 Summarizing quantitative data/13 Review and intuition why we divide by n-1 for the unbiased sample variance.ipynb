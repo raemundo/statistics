{
 "cells": [
  {
   "cell_type": "code",
   "execution_count": null,
   "metadata": {},
   "outputs": [],
   "source": []
  },
  {
   "cell_type": "markdown",
   "metadata": {},
   "source": [
    "[khanacademy](https://www.khanacademy.org/math/ap-statistics/summarizing-quantitative-data-ap/more-standard-deviation/v/review-and-intuition-why-we-divide-by-n-1-for-the-unbiased-sample-variance?modal=1)"
   ]
  },
  {
   "cell_type": "markdown",
   "metadata": {},
   "source": [
    "<img src=\"imgs/Annotation 2020-02-24 200858.png\">\n",
    "<img src=\"imgs/Annotation 2020-02-24 201047.png\">"
   ]
  },
  {
   "cell_type": "markdown",
   "metadata": {},
   "source": [
    "|   |  population (parameter) |  sample (statistic)  |\n",
    "|---|---|---|\n",
    "| mean | $$ \\mu = \\frac{ \\sum_{i=1}^{N} x_{i} }{N} $$  |  $$ \\bar{x} = \\frac{ \\sum_{i=1}^{n} x_{i} }{n} $$ |\n",
    "|  variance |  $$ \\sigma^{2} = \\frac{ \\sum_{i=1}^{N} (x_{i} - \\mu)^{2} }{N} $$ |  $$ S^{2} = \\frac{ \\sum_{i=1}^{n} (x_{i} - \\bar{x})^{2} }{n} $$ $$ S_{n-1}^{2} = \\frac{ \\sum_{i=1}^{n} (x_{i} - \\bar{x})^{2} }{n} $$ |"
   ]
  },
  {
   "cell_type": "code",
   "execution_count": 1,
   "metadata": {},
   "outputs": [],
   "source": [
    "# plot data on number line"
   ]
  },
  {
   "cell_type": "code",
   "execution_count": null,
   "metadata": {},
   "outputs": [],
   "source": []
  }
 ],
 "metadata": {
  "kernelspec": {
   "display_name": "Python 3",
   "language": "python",
   "name": "python3"
  },
  "language_info": {
   "codemirror_mode": {
    "name": "ipython",
    "version": 3
   },
   "file_extension": ".py",
   "mimetype": "text/x-python",
   "name": "python",
   "nbconvert_exporter": "python",
   "pygments_lexer": "ipython3",
   "version": "3.7.1"
  }
 },
 "nbformat": 4,
 "nbformat_minor": 4
}
