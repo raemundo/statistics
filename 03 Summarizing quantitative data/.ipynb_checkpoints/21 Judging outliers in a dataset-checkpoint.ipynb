{
 "cells": [
  {
   "cell_type": "code",
   "execution_count": 3,
   "metadata": {},
   "outputs": [],
   "source": [
    "import numpy as np\n",
    "import pandas as pd\n",
    "from pandas import Series, DataFrame\n",
    "import matplotlib.pyplot as plt\n",
    "from scipy import stats"
   ]
  },
  {
   "cell_type": "markdown",
   "metadata": {},
   "source": [
    "[khanacademy](https://www.khanacademy.org/math/ap-statistics/summarizing-quantitative-data-ap/stats-box-whisker-plots/v/judging-outliers-in-a-dataset?modal=1)"
   ]
  },
  {
   "cell_type": "markdown",
   "metadata": {},
   "source": [
    "<img src=\"imgs/Annotation 2020-02-24 221202.png\">\n",
    "<img src=\"imgs/Annotation 2020-02-24 221327.png\">"
   ]
  },
  {
   "cell_type": "code",
   "execution_count": 29,
   "metadata": {},
   "outputs": [],
   "source": [
    "x = Series(np.array([1,1,6, 13, 13, 14, 14, 14, 15, 15, 16, 18, 18, 18, 19]))"
   ]
  },
  {
   "cell_type": "code",
   "execution_count": 34,
   "metadata": {},
   "outputs": [],
   "source": [
    "def is_outlier(num, dataset):\n",
    "    dataset = np.array(dataset)\n",
    "    Q1 = np.percentile(dataset, 25)\n",
    "    Q3 = np.percentile(dataset, 75)\n",
    "    IQR = stats.iqr(dataset)\n",
    "    return num < (Q1 - 1.5 * IQR) or num > (Q3 + 1.5 * IQR)"
   ]
  },
  {
   "cell_type": "code",
   "execution_count": 35,
   "metadata": {},
   "outputs": [
    {
     "data": {
      "text/plain": [
       "False"
      ]
     },
     "execution_count": 35,
     "metadata": {},
     "output_type": "execute_result"
    }
   ],
   "source": [
    "is_outlier(13, x)"
   ]
  },
  {
   "cell_type": "code",
   "execution_count": 17,
   "metadata": {},
   "outputs": [
    {
     "data": {
      "text/plain": [
       "<matplotlib.axes._subplots.AxesSubplot at 0x16c884cd8d0>"
      ]
     },
     "execution_count": 17,
     "metadata": {},
     "output_type": "execute_result"
    },
    {
     "data": {
      "image/png": "[encoded data removed]",
      "text/plain": [
       "<Figure size 432x288 with 1 Axes>"
      ]
     },
     "metadata": {
      "needs_background": "light"
     },
     "output_type": "display_data"
    }
   ],
   "source": [
    "x.plot(kind='hist')"
   ]
  },
  {
   "cell_type": "code",
   "execution_count": 16,
   "metadata": {},
   "outputs": [
    {
     "data": {
      "text/plain": [
       "<matplotlib.axes._subplots.AxesSubplot at 0x16c883dce10>"
      ]
     },
     "execution_count": 16,
     "metadata": {},
     "output_type": "execute_result"
    },
    {
     "data": {
      "image/png": "[encoded data removed]",
      "text/plain": [
       "<Figure size 432x288 with 1 Axes>"
      ]
     },
     "metadata": {
      "needs_background": "light"
     },
     "output_type": "display_data"
    }
   ],
   "source": [
    "x.plot(kind='box')"
   ]
  },
  {
   "cell_type": "code",
   "execution_count": 45,
   "metadata": {},
   "outputs": [
    {
     "name": "stderr",
     "output_type": "stream",
     "text": [
      "C:\\Users\\rae\\Anaconda3\\lib\\site-packages\\ipykernel_launcher.py:2: MatplotlibDeprecationWarning: Adding an axes using the same arguments as a previous axes currently reuses the earlier instance.  In a future version, a new instance will always be created and returned.  Meanwhile, this warning can be suppressed, and the future behavior ensured, by passing a unique label to each axes instance.\n",
      "  \n"
     ]
    },
    {
     "data": {
      "text/plain": [
       "[<matplotlib.axis.XTick at 0x16c8a536d68>,\n",
       " <matplotlib.axis.XTick at 0x16c8a536128>,\n",
       " <matplotlib.axis.XTick at 0x16c8b08cda0>,\n",
       " <matplotlib.axis.XTick at 0x16c8b39c9b0>,\n",
       " <matplotlib.axis.XTick at 0x16c8b39ce80>,\n",
       " <matplotlib.axis.XTick at 0x16c8b3ad3c8>,\n",
       " <matplotlib.axis.XTick at 0x16c8b3ad940>,\n",
       " <matplotlib.axis.XTick at 0x16c8b3adeb8>,\n",
       " <matplotlib.axis.XTick at 0x16c8b39ccf8>,\n",
       " <matplotlib.axis.XTick at 0x16c8b2f74a8>,\n",
       " <matplotlib.axis.XTick at 0x16c8b2f7a20>,\n",
       " <matplotlib.axis.XTick at 0x16c8b2f7e80>,\n",
       " <matplotlib.axis.XTick at 0x16c8b301550>,\n",
       " <matplotlib.axis.XTick at 0x16c8b301ac8>,\n",
       " <matplotlib.axis.XTick at 0x16c8b30c0f0>,\n",
       " <matplotlib.axis.XTick at 0x16c8b30c5f8>,\n",
       " <matplotlib.axis.XTick at 0x16c8b301518>,\n",
       " <matplotlib.axis.XTick at 0x16c8b2f7550>]"
      ]
     },
     "execution_count": 45,
     "metadata": {},
     "output_type": "execute_result"
    },
    {
     "data": {
      "image/png": "[encoded data removed]",
      "text/plain": [
       "<Figure size 432x288 with 1 Axes>"
      ]
     },
     "metadata": {
      "needs_background": "light"
     },
     "output_type": "display_data"
    }
   ],
   "source": [
    "plt.hist(x)\n",
    "plt.axes().set_xticks(range(1, 19))"
   ]
  },
  {
   "cell_type": "code",
   "execution_count": 46,
   "metadata": {},
   "outputs": [
    {
     "name": "stderr",
     "output_type": "stream",
     "text": [
      "C:\\Users\\rae\\Anaconda3\\lib\\site-packages\\ipykernel_launcher.py:2: MatplotlibDeprecationWarning: Adding an axes using the same arguments as a previous axes currently reuses the earlier instance.  In a future version, a new instance will always be created and returned.  Meanwhile, this warning can be suppressed, and the future behavior ensured, by passing a unique label to each axes instance.\n",
      "  \n"
     ]
    },
    {
     "data": {
      "text/plain": [
       "[<matplotlib.axis.YTick at 0x16c8ab573c8>,\n",
       " <matplotlib.axis.YTick at 0x16c8ab4acc0>,\n",
       " <matplotlib.axis.YTick at 0x16c8ab25a90>,\n",
       " <matplotlib.axis.YTick at 0x16c8b412f60>,\n",
       " <matplotlib.axis.YTick at 0x16c8b41c470>,\n",
       " <matplotlib.axis.YTick at 0x16c8b41c940>,\n",
       " <matplotlib.axis.YTick at 0x16c8b41ce48>,\n",
       " <matplotlib.axis.YTick at 0x16c8b420400>,\n",
       " <matplotlib.axis.YTick at 0x16c8b420978>,\n",
       " <matplotlib.axis.YTick at 0x16c8b420ef0>,\n",
       " <matplotlib.axis.YTick at 0x16c8b4207f0>,\n",
       " <matplotlib.axis.YTick at 0x16c8b41c898>,\n",
       " <matplotlib.axis.YTick at 0x16c8b423748>,\n",
       " <matplotlib.axis.YTick at 0x16c8b423be0>,\n",
       " <matplotlib.axis.YTick at 0x16c8b428198>,\n",
       " <matplotlib.axis.YTick at 0x16c8b428710>,\n",
       " <matplotlib.axis.YTick at 0x16c8b428c88>,\n",
       " <matplotlib.axis.YTick at 0x16c8b42e240>]"
      ]
     },
     "execution_count": 46,
     "metadata": {},
     "output_type": "execute_result"
    },
    {
     "data": {
      "image/png": "[encoded data removed]",
      "text/plain": [
       "<Figure size 432x288 with 1 Axes>"
      ]
     },
     "metadata": {
      "needs_background": "light"
     },
     "output_type": "display_data"
    }
   ],
   "source": [
    "plt.boxplot(x)\n",
    "plt.axes().set_yticks(range(1, 19))"
   ]
  },
  {
   "cell_type": "code",
   "execution_count": 47,
   "metadata": {},
   "outputs": [],
   "source": [
    "# fixing outlier with \"accurate\" IQR function \n",
    "# dot plot instead of histogram\n",
    "# fix the warning"
   ]
  },
  {
   "cell_type": "markdown",
   "metadata": {},
   "source": [
    "additional resources: [towardsdatascience](https://towardsdatascience.com/ways-to-detect-and-remove-the-outliers-404d16608dba)"
   ]
  },
  {
   "cell_type": "code",
   "execution_count": null,
   "metadata": {},
   "outputs": [],
   "source": []
  }
 ],
 "metadata": {
  "kernelspec": {
   "display_name": "Python 3",
   "language": "python",
   "name": "python3"
  },
  "language_info": {
   "codemirror_mode": {
    "name": "ipython",
    "version": 3
   },
   "file_extension": ".py",
   "mimetype": "text/x-python",
   "name": "python",
   "nbconvert_exporter": "python",
   "pygments_lexer": "ipython3",
   "version": "3.7.1"
  }
 },
 "nbformat": 4,
 "nbformat_minor": 4
}
