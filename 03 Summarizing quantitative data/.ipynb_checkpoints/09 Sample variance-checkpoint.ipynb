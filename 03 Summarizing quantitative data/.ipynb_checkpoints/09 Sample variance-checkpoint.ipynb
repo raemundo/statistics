{
 "cells": [
  {
   "cell_type": "markdown",
   "metadata": {},
   "source": [
    "# 09 Sample variance"
   ]
  },
  {
   "cell_type": "code",
   "execution_count": 2,
   "metadata": {},
   "outputs": [],
   "source": [
    "import numpy as np\n",
    "import pandas as pd\n",
    "from pandas import Series, DataFrame\n",
    "import matplotlib.pyplot as plt\n",
    "import seaborn as sns\n",
    "from scipy import stats"
   ]
  },
  {
   "cell_type": "markdown",
   "metadata": {},
   "source": [
    "[khanacademy](https://www.khanacademy.org/math/ap-statistics/summarizing-quantitative-data-ap/measuring-spread-quantitative/v/sample-variance?modal=1)\n",
    "[numpy.std](https://docs.scipy.org/doc/numpy/reference/generated/numpy.std.html)"
   ]
  },
  {
   "cell_type": "markdown",
   "metadata": {},
   "source": [
    "<img src=\"imgs/Annotation 2020-02-24 053939.png\">"
   ]
  },
  {
   "cell_type": "markdown",
   "metadata": {},
   "source": [
    "$$ \\text{Population Variance } \\sigma^2 = \\frac{\\sum_{i=1}^{N} (x_{i} - \\mu)^2}{N} $$\n",
    "$$ \\text{Sample Variance } S^{2} = S_{n-1}^{2} = \\frac{ \\sum_{i=1}^{n} (x_{i} - \\bar{x} ) ^ {2} }{n-1} $$\n",
    "$$ \\text{Population Standard Deviation } \\sigma = \\sqrt{\\sigma} = \\sqrt{ \\frac{ \\sum_{i=1}^{N} (x_{i} - \\mu)^{2} }{N} } $$\n",
    "$$ \\text{Sample Standard Deviation } S = \\sqrt{S} = \\sqrt{\\frac{ \\sum_{i=1}^{n} (x_{i} - \\bar{x}) ^ {2} }{n-1} } $$"
   ]
  },
  {
   "cell_type": "code",
   "execution_count": null,
   "metadata": {},
   "outputs": [],
   "source": []
  },
  {
   "cell_type": "code",
   "execution_count": 3,
   "metadata": {},
   "outputs": [],
   "source": [
    "x = np.array([1.5,2.5,4,2,1,1])"
   ]
  },
  {
   "cell_type": "code",
   "execution_count": 16,
   "metadata": {},
   "outputs": [
    {
     "name": "stdout",
     "output_type": "stream",
     "text": [
      "mean of x 2.0\n",
      "variance of x 1.3\n",
      "standard deviativion of x 1.140175425099138\n",
      "standard deviativion of x 1.140175425099138\n"
     ]
    }
   ],
   "source": [
    "print(f'mean of x {np.mean(x)}')\n",
    "print(f'variance of x {np.var(x, ddof=1)}')\n",
    "print(f'standard deviativion of x {np.sqrt(np.var(x, ddof=1))}')\n",
    "print(f'standard deviativion of x {np.std(x, ddof=1)}')"
   ]
  },
  {
   "cell_type": "code",
   "execution_count": 36,
   "metadata": {},
   "outputs": [
    {
     "name": "stdout",
     "output_type": "stream",
     "text": [
      "Variance 1.3\n",
      "Standard Deviation 1.140175425099138\n"
     ]
    }
   ],
   "source": [
    "n = x.shape[0]\n",
    "x_bar = x.mean()\n",
    "s_sqrt = np.sum((x - x_bar)**2)/(n-1)\n",
    "s = np.sqrt(s_sqrt)\n",
    "print(f'Variance {s_sqrt}')\n",
    "print(f'Standard Deviation {s}')"
   ]
  },
  {
   "cell_type": "code",
   "execution_count": null,
   "metadata": {},
   "outputs": [],
   "source": []
  },
  {
   "cell_type": "code",
   "execution_count": null,
   "metadata": {},
   "outputs": [],
   "source": []
  },
  {
   "cell_type": "code",
   "execution_count": null,
   "metadata": {},
   "outputs": [],
   "source": []
  }
 ],
 "metadata": {
  "kernelspec": {
   "display_name": "Python 3",
   "language": "python",
   "name": "python3"
  },
  "language_info": {
   "codemirror_mode": {
    "name": "ipython",
    "version": 3
   },
   "file_extension": ".py",
   "mimetype": "text/x-python",
   "name": "python",
   "nbconvert_exporter": "python",
   "pygments_lexer": "ipython3",
   "version": "3.7.1"
  }
 },
 "nbformat": 4,
 "nbformat_minor": 4
}
