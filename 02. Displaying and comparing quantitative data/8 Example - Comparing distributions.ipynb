{
 "cells": [
  {
   "cell_type": "code",
   "execution_count": 2,
   "metadata": {},
   "outputs": [],
   "source": [
    "import numpy as np\n",
    "import pandas as pd\n",
    "from pandas import Series, DataFrame\n",
    "import matplotlib.pyplot as plt"
   ]
  },
  {
   "cell_type": "markdown",
   "metadata": {},
   "source": [
    "<img src=\"imgs/Screen Shot 2019-08-12 at 11.39.16 AM.png\">\n",
    "<img src=\"imgs/Screen Shot 2019-08-12 at 11.37.55 AM.png\">"
   ]
  },
  {
   "cell_type": "code",
   "execution_count": 75,
   "metadata": {},
   "outputs": [],
   "source": [
    "poland = 8 *[4] + 12 * [7] + 7 * [10] + 4 * [13]"
   ]
  },
  {
   "cell_type": "code",
   "execution_count": 76,
   "metadata": {},
   "outputs": [],
   "source": [
    "minneapolis = 1 * [-20] + 1 * [-17] + 3 * [-11] + 3 * [-8] + 5 * [-5] + 4 * [-2] + 5 * [1] + 7 * [4] + 2 * [7]"
   ]
  },
  {
   "cell_type": "code",
   "execution_count": 77,
   "metadata": {},
   "outputs": [],
   "source": [
    "bins=[-20, -17, -11, -8, -5, -2, 1, 4, 7, 10, 13, 16]"
   ]
  },
  {
   "cell_type": "code",
   "execution_count": 78,
   "metadata": {},
   "outputs": [
    {
     "data": {
      "text/plain": [
       "Text(0.5, 1.0, 'Minneapolis')"
      ]
     },
     "execution_count": 78,
     "metadata": {},
     "output_type": "execute_result"
    },
    {
     "data": {
      "image/png": "[encoded data removed]",
      "text/plain": [
       "<Figure size 432x288 with 1 Axes>"
      ]
     },
     "metadata": {
      "needs_background": "light"
     },
     "output_type": "display_data"
    }
   ],
   "source": [
    "plt.hist(minneapolis, bins=bins, color='#4ec7d6')\n",
    "plt.ylim([0, 14])\n",
    "plt.xlabel('Temperature (C)')\n",
    "plt.ylabel('Number of days')\n",
    "plt.title('Minneapolis')"
   ]
  },
  {
   "cell_type": "code",
   "execution_count": 79,
   "metadata": {
    "scrolled": true
   },
   "outputs": [
    {
     "data": {
      "text/plain": [
       "Text(0.5, 1.0, 'Poland')"
      ]
     },
     "execution_count": 79,
     "metadata": {},
     "output_type": "execute_result"
    },
    {
     "data": {
      "image/png": "[encoded data removed]",
      "text/plain": [
       "<Figure size 432x288 with 1 Axes>"
      ]
     },
     "metadata": {
      "needs_background": "light"
     },
     "output_type": "display_data"
    }
   ],
   "source": [
    "plt.hist(poland, bins=bins, color='#57cb79')\n",
    "plt.ylim([0, 14])\n",
    "plt.xlabel('Temperature (C)')\n",
    "plt.ylabel('Number of days')\n",
    "plt.title('Poland')"
   ]
  },
  {
   "cell_type": "code",
   "execution_count": 95,
   "metadata": {},
   "outputs": [
    {
     "name": "stdout",
     "output_type": "stream",
     "text": [
      "Poland mean 7.67741935483871 \n",
      "Minneapolis mean : -2.5806451612903225\n"
     ]
    }
   ],
   "source": [
    "# Center Tendency \n",
    "print(f'Poland mean {np.mean(poland)} \\nMinneapolis mean : {np.mean(minneapolis)}')"
   ]
  },
  {
   "cell_type": "code",
   "execution_count": 98,
   "metadata": {},
   "outputs": [
    {
     "name": "stdout",
     "output_type": "stream",
     "text": [
      "Poland mean 2.9225165555886767 \n",
      "Minneapolis mean : 6.70471280349243\n"
     ]
    }
   ],
   "source": [
    "# Spread\n",
    "print(f'Poland mean {np.std(poland)} \\nMinneapolis mean : {np.std(minneapolis)}')"
   ]
  },
  {
   "cell_type": "code",
   "execution_count": 100,
   "metadata": {},
   "outputs": [],
   "source": [
    "# TODO: calculate range instead of standard deviation \n",
    "# TODO: adding the other dot plots\n",
    "# TODO: improving these plots"
   ]
  },
  {
   "cell_type": "code",
   "execution_count": null,
   "metadata": {},
   "outputs": [],
   "source": []
  },
  {
   "cell_type": "code",
   "execution_count": null,
   "metadata": {},
   "outputs": [],
   "source": []
  },
  {
   "cell_type": "code",
   "execution_count": null,
   "metadata": {},
   "outputs": [],
   "source": []
  }
 ],
 "metadata": {
  "kernelspec": {
   "display_name": "Python 3",
   "language": "python",
   "name": "python3"
  },
  "language_info": {
   "codemirror_mode": {
    "name": "ipython",
    "version": 3
   },
   "file_extension": ".py",
   "mimetype": "text/x-python",
   "name": "python",
   "nbconvert_exporter": "python",
   "pygments_lexer": "ipython3",
   "version": "3.7.1"
  }
 },
 "nbformat": 4,
 "nbformat_minor": 4
}
